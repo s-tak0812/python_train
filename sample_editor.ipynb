{
  "cells": [
    {
      "cell_type": "markdown",
      "metadata": {
        "id": "view-in-github",
        "colab_type": "text"
      },
      "source": [
        "<a href=\"https://colab.research.google.com/github/s-tak0812/python_train/blob/main/sample_editor.ipynb\" target=\"_parent\"><img src=\"https://colab.research.google.com/assets/colab-badge.svg\" alt=\"Open In Colab\"/></a>"
      ]
    },
    {
      "cell_type": "markdown",
      "metadata": {
        "id": "flGYyTlJ5gJE"
      },
      "source": [
        "# sample exercises\n",
        "\n",
        "1. 課題の取り組み方について学習します。"
      ]
    },
    {
      "cell_type": "markdown",
      "metadata": {
        "id": "GEfzifmP5gJE"
      },
      "source": [
        "### 1. 課題の取り組み方について学習します。"
      ]
    },
    {
      "cell_type": "markdown",
      "metadata": {
        "id": "nR9V1gcK5gJF"
      },
      "source": [
        "#### 1.1 「変数num1を定義して、num1に8を代入して、表示してください。」"
      ]
    },
    {
      "cell_type": "code",
      "execution_count": null,
      "metadata": {
        "colab": {
          "base_uri": "https://localhost:8080/"
        },
        "id": "TQ5TphfB5gJF",
        "outputId": "3e235594-7416-45dd-8e16-19e128e69fc0"
      },
      "outputs": [
        {
          "output_type": "stream",
          "name": "stdout",
          "text": [
            "8\n"
          ]
        }
      ],
      "source": [
        "num1 = 8\n",
        "\n",
        "print(num1)"
      ]
    },
    {
      "cell_type": "markdown",
      "metadata": {
        "id": "IAj4-RSp5gJF"
      },
      "source": [
        "#### 1.2 「変数num2を定義して、num2に4を代入して、表示してください。」"
      ]
    },
    {
      "cell_type": "code",
      "execution_count": null,
      "metadata": {
        "colab": {
          "base_uri": "https://localhost:8080/"
        },
        "id": "gkKNcrjg5gJF",
        "outputId": "f321d350-6c65-4793-d311-78f3c8391486"
      },
      "outputs": [
        {
          "output_type": "stream",
          "name": "stdout",
          "text": [
            "4\n"
          ]
        }
      ],
      "source": [
        "num2 = 4\n",
        "\n",
        "print(num2)"
      ]
    },
    {
      "cell_type": "markdown",
      "metadata": {
        "id": "huok11-k5gJF"
      },
      "source": [
        "#### 1.3 「変数num1とnum2の和を求めてください。」"
      ]
    },
    {
      "cell_type": "code",
      "execution_count": null,
      "metadata": {
        "colab": {
          "base_uri": "https://localhost:8080/"
        },
        "id": "3x_wjEOc5gJF",
        "outputId": "8ae7f5e6-e16f-4dee-8c79-8d083e2e8f2a"
      },
      "outputs": [
        {
          "output_type": "execute_result",
          "data": {
            "text/plain": [
              "12"
            ]
          },
          "metadata": {},
          "execution_count": 8
        }
      ],
      "source": [
        "num1 + num2"
      ]
    },
    {
      "cell_type": "markdown",
      "metadata": {
        "id": "aJBGpbLm5gJG"
      },
      "source": [
        "#### 1.4 「変数num1とnum2の差を求めてください。」"
      ]
    },
    {
      "cell_type": "code",
      "execution_count": null,
      "metadata": {
        "colab": {
          "base_uri": "https://localhost:8080/"
        },
        "id": "CE2BMBWT5gJG",
        "outputId": "301f140f-8d92-41e5-f5a0-f8fe926fc7e1"
      },
      "outputs": [
        {
          "output_type": "execute_result",
          "data": {
            "text/plain": [
              "4"
            ]
          },
          "metadata": {},
          "execution_count": 9
        }
      ],
      "source": [
        "num1 - num2"
      ]
    },
    {
      "cell_type": "markdown",
      "metadata": {
        "id": "yDNV3fF55gJG"
      },
      "source": [
        "#### 1.5 「変数num1とnum2の積を求めてください。」"
      ]
    },
    {
      "cell_type": "code",
      "execution_count": null,
      "metadata": {
        "colab": {
          "base_uri": "https://localhost:8080/"
        },
        "id": "MXbHMDec5gJG",
        "outputId": "536d4c87-1223-44d3-a127-573b5e82ded2"
      },
      "outputs": [
        {
          "output_type": "execute_result",
          "data": {
            "text/plain": [
              "32"
            ]
          },
          "metadata": {},
          "execution_count": 10
        }
      ],
      "source": [
        "num1 * num2"
      ]
    },
    {
      "cell_type": "markdown",
      "metadata": {
        "id": "4IEmIbhb5gJG"
      },
      "source": [
        "#### 1.6 「変数num1とnum2の商を求めてください。」"
      ]
    },
    {
      "cell_type": "code",
      "execution_count": null,
      "metadata": {
        "colab": {
          "base_uri": "https://localhost:8080/"
        },
        "id": "a_LuU4po5gJG",
        "outputId": "22d27c73-c98e-40b1-9633-cd68e224c5e7"
      },
      "outputs": [
        {
          "output_type": "execute_result",
          "data": {
            "text/plain": [
              "2.0"
            ]
          },
          "metadata": {},
          "execution_count": 11
        }
      ],
      "source": [
        "num1 / num2"
      ]
    },
    {
      "cell_type": "code",
      "source": [],
      "metadata": {
        "id": "O6pIfaef-T-e"
      },
      "execution_count": null,
      "outputs": []
    }
  ],
  "metadata": {
    "kernelspec": {
      "display_name": "Python 3",
      "language": "python",
      "name": "python3"
    },
    "language_info": {
      "codemirror_mode": {
        "name": "ipython",
        "version": 3
      },
      "file_extension": ".py",
      "mimetype": "text/x-python",
      "name": "python",
      "nbconvert_exporter": "python",
      "pygments_lexer": "ipython3",
      "version": "3.7.0"
    },
    "toc": {
      "base_numbering": 1,
      "nav_menu": {},
      "number_sections": true,
      "sideBar": true,
      "skip_h1_title": false,
      "title_cell": "Table of Contents",
      "title_sidebar": "Contents",
      "toc_cell": false,
      "toc_position": {},
      "toc_section_display": true,
      "toc_window_display": false
    },
    "varInspector": {
      "cols": {
        "lenName": 16,
        "lenType": 16,
        "lenVar": 40
      },
      "kernels_config": {
        "python": {
          "delete_cmd_postfix": "",
          "delete_cmd_prefix": "del ",
          "library": "var_list.py",
          "varRefreshCmd": "print(var_dic_list())"
        },
        "r": {
          "delete_cmd_postfix": ") ",
          "delete_cmd_prefix": "rm(",
          "library": "var_list.r",
          "varRefreshCmd": "cat(var_dic_list()) "
        }
      },
      "types_to_exclude": [
        "module",
        "function",
        "builtin_function_or_method",
        "instance",
        "_Feature"
      ],
      "window_display": false
    },
    "colab": {
      "provenance": [],
      "include_colab_link": true
    }
  },
  "nbformat": 4,
  "nbformat_minor": 0
}