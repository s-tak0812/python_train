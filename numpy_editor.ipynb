{
  "cells": [
    {
      "cell_type": "markdown",
      "metadata": {
        "id": "view-in-github",
        "colab_type": "text"
      },
      "source": [
        "<a href=\"https://colab.research.google.com/github/s-tak0812/python_train/blob/main/numpy_editor.ipynb\" target=\"_parent\"><img src=\"https://colab.research.google.com/assets/colab-badge.svg\" alt=\"Open In Colab\"/></a>"
      ]
    },
    {
      "cell_type": "markdown",
      "metadata": {
        "id": "41VET8j0OBar"
      },
      "source": [
        "# numpy exercises\n",
        "\n",
        "\n",
        "1. データの状態を確認する方法について学習します。（4問）\n",
        "2. 配列について学習します。（4問）\n",
        "3. スライスについて学習します。（5問）\n",
        "4. 行列について学習します。（基礎）（6問）\n",
        "5. 行列について学習します。（応用）（7問）\n",
        "6. numpyでよく使う機能について学習します。（14問）"
      ]
    },
    {
      "cell_type": "markdown",
      "metadata": {
        "id": "rLPE66LQOBat"
      },
      "source": [
        "### 0. 事前準備"
      ]
    },
    {
      "cell_type": "markdown",
      "metadata": {
        "id": "txEpSx_GOBat"
      },
      "source": [
        "#### 0.1 「numpyを読み込んでください。」"
      ]
    },
    {
      "cell_type": "code",
      "execution_count": 1,
      "metadata": {
        "id": "kZSrM6W1OBat"
      },
      "outputs": [],
      "source": [
        "import numpy as np"
      ]
    },
    {
      "cell_type": "markdown",
      "metadata": {
        "id": "RB13YGNyOBau"
      },
      "source": [
        "#### 0.2 「以下のコードを読み込んでください。」"
      ]
    },
    {
      "cell_type": "code",
      "execution_count": 2,
      "metadata": {
        "colab": {
          "base_uri": "https://localhost:8080/"
        },
        "id": "fTtW2PJtOBau",
        "outputId": "985eea08-4a26-475c-f855-ebe07cad47dd"
      },
      "outputs": [
        {
          "output_type": "execute_result",
          "data": {
            "text/plain": [
              "array([[ 0,  1,  2,  3,  4],\n",
              "       [ 5,  6,  7,  8,  9],\n",
              "       [10, 11, 12, 13, 14]])"
            ]
          },
          "metadata": {},
          "execution_count": 2
        }
      ],
      "source": [
        "a = np.arange(15).reshape(3, 5)\n",
        "a"
      ]
    },
    {
      "cell_type": "markdown",
      "metadata": {
        "id": "VJQd__6UOBav"
      },
      "source": [
        "### 1. データの状態を確認する方法について学習します。（4問）"
      ]
    },
    {
      "cell_type": "markdown",
      "metadata": {
        "id": "KOsCEjEkOBav"
      },
      "source": [
        "#### 1.1 「行列の大きさを確認してください。」"
      ]
    },
    {
      "cell_type": "code",
      "execution_count": 3,
      "metadata": {
        "colab": {
          "base_uri": "https://localhost:8080/"
        },
        "id": "-17rERjiOBav",
        "outputId": "62905e84-816f-42bd-d330-afa45aea6c7d"
      },
      "outputs": [
        {
          "output_type": "execute_result",
          "data": {
            "text/plain": [
              "(3, 5)"
            ]
          },
          "metadata": {},
          "execution_count": 3
        }
      ],
      "source": [
        "a.shape"
      ]
    },
    {
      "cell_type": "markdown",
      "metadata": {
        "id": "eDeEpQrFOBav"
      },
      "source": [
        "#### 1.2 「行列の軸数（次元）を確認してください。」"
      ]
    },
    {
      "cell_type": "code",
      "execution_count": null,
      "metadata": {
        "colab": {
          "base_uri": "https://localhost:8080/"
        },
        "id": "THVW_sZzOBav",
        "outputId": "cfe42b96-64d0-4b12-b738-b0120e8f6450"
      },
      "outputs": [
        {
          "output_type": "execute_result",
          "data": {
            "text/plain": [
              "2"
            ]
          },
          "metadata": {},
          "execution_count": 4
        }
      ],
      "source": [
        "a.ndim"
      ]
    },
    {
      "cell_type": "markdown",
      "metadata": {
        "id": "Fz3xCjxUOBaw"
      },
      "source": [
        "#### 1.3 「行列のデータ型を確認してください。」"
      ]
    },
    {
      "cell_type": "code",
      "execution_count": null,
      "metadata": {
        "colab": {
          "base_uri": "https://localhost:8080/"
        },
        "id": "ZlOf6WzwOBaw",
        "outputId": "24876932-166e-430f-be05-f3f7f6becf24"
      },
      "outputs": [
        {
          "output_type": "execute_result",
          "data": {
            "text/plain": [
              "numpy.ndarray"
            ]
          },
          "metadata": {},
          "execution_count": 5
        }
      ],
      "source": [
        "type(a)"
      ]
    },
    {
      "cell_type": "markdown",
      "metadata": {
        "id": "KoiBd4SeOBaw"
      },
      "source": [
        "#### 1.4 「行列の配列要素を確認してください。」"
      ]
    },
    {
      "cell_type": "code",
      "execution_count": null,
      "metadata": {
        "colab": {
          "base_uri": "https://localhost:8080/"
        },
        "id": "hkUuXxkDOBaw",
        "outputId": "ed7c314d-341f-4cbe-c488-56d518d34412"
      },
      "outputs": [
        {
          "output_type": "execute_result",
          "data": {
            "text/plain": [
              "dtype('int64')"
            ]
          },
          "metadata": {},
          "execution_count": 6
        }
      ],
      "source": [
        "a.dtype"
      ]
    },
    {
      "cell_type": "markdown",
      "metadata": {
        "id": "A8LHLZcxOBaw"
      },
      "source": [
        "### 2. 配列について学習します。（4問）"
      ]
    },
    {
      "cell_type": "markdown",
      "metadata": {
        "id": "XnQTQsFYOBax"
      },
      "source": [
        "#### 2.1 「8つの「0」が入る配列を作成してください。」"
      ]
    },
    {
      "cell_type": "code",
      "execution_count": null,
      "metadata": {
        "colab": {
          "base_uri": "https://localhost:8080/"
        },
        "id": "1gLJV8OqOBax",
        "outputId": "7fe70c1b-efa1-403b-f515-53cc860f8a20"
      },
      "outputs": [
        {
          "output_type": "stream",
          "name": "stdout",
          "text": [
            "[0. 0. 0. 0. 0. 0. 0. 0.]\n"
          ]
        }
      ],
      "source": [
        "b = np.zeros(8)\n",
        "print(b)"
      ]
    },
    {
      "cell_type": "markdown",
      "metadata": {
        "id": "LRW7WpFdOBax"
      },
      "source": [
        "#### 2.2 「8つの「0」が入る配列を作成し、5番目の値を「1」に変えてください。」"
      ]
    },
    {
      "cell_type": "code",
      "execution_count": null,
      "metadata": {
        "colab": {
          "base_uri": "https://localhost:8080/"
        },
        "id": "dRaWl1laOBax",
        "outputId": "c54defb6-da4f-4aac-ac17-a5778737c67d"
      },
      "outputs": [
        {
          "output_type": "stream",
          "name": "stdout",
          "text": [
            "[0. 0. 0. 0. 1. 0. 0. 0.]\n"
          ]
        }
      ],
      "source": [
        "c = np.zeros(8)\n",
        "c[4] = 1\n",
        "print(c)"
      ]
    },
    {
      "cell_type": "markdown",
      "metadata": {
        "id": "FY_35ZH7OBax"
      },
      "source": [
        "#### 2.3 「10～49までの数字が昇順で入った配列を作成してください。」"
      ]
    },
    {
      "cell_type": "code",
      "execution_count": null,
      "metadata": {
        "colab": {
          "base_uri": "https://localhost:8080/"
        },
        "id": "1UFpEMGdOBax",
        "outputId": "d679e482-c943-4784-c6d9-aacee2f73d95"
      },
      "outputs": [
        {
          "output_type": "stream",
          "name": "stdout",
          "text": [
            "[10 11 12 13 14 15 16 17 18 19 20 21 22 23 24 25 26 27 28 29 30 31 32 33\n",
            " 34 35 36 37 38 39 40 41 42 43 44 45 46 47 48 49]\n"
          ]
        }
      ],
      "source": [
        "d = np.arange(10,50)\n",
        "print(d)"
      ]
    },
    {
      "cell_type": "markdown",
      "metadata": {
        "id": "hqr1IlV8OBax"
      },
      "source": [
        "#### 2.4 「0～39までの数字が降順で入った配列を作成してください。」"
      ]
    },
    {
      "cell_type": "code",
      "execution_count": null,
      "metadata": {
        "colab": {
          "base_uri": "https://localhost:8080/"
        },
        "id": "IBCHiSCrOBax",
        "outputId": "5a683319-bed6-4cde-9fdb-e43db2d42b95"
      },
      "outputs": [
        {
          "output_type": "stream",
          "name": "stdout",
          "text": [
            "[39 38 37 36 35 34 33 32 31 30 29 28 27 26 25 24 23 22 21 20 19 18 17 16\n",
            " 15 14 13 12 11 10  9  8  7  6  5  4  3  2  1  0]\n"
          ]
        }
      ],
      "source": [
        "e = np.arange(40)\n",
        "f = np.sort(e)[::-1]\n",
        "print(f)"
      ]
    },
    {
      "cell_type": "markdown",
      "metadata": {
        "id": "zo1mX_hZOBax"
      },
      "source": [
        "### 3. スライスについて学習します。（5問）"
      ]
    },
    {
      "cell_type": "markdown",
      "metadata": {
        "id": "L69gNJdbOBax"
      },
      "source": [
        "#### 3.1 「0~9までの数字が入った配列を作成してください。」"
      ]
    },
    {
      "cell_type": "code",
      "execution_count": null,
      "metadata": {
        "colab": {
          "base_uri": "https://localhost:8080/"
        },
        "id": "iuJn2m5MOBay",
        "outputId": "763a7f1c-4906-4224-8f56-52ff87bd52d0"
      },
      "outputs": [
        {
          "output_type": "stream",
          "name": "stdout",
          "text": [
            "[0 1 2 3 4 5 6 7 8 9]\n"
          ]
        }
      ],
      "source": [
        "g = np.arange(10)\n",
        "print(g)"
      ]
    },
    {
      "cell_type": "markdown",
      "metadata": {
        "id": "acFLwUkJOBay"
      },
      "source": [
        "#### 3.2 「スライス（:）を使用して、3.1で作成した配列から下記の配列を取り出して下さい。」"
      ]
    },
    {
      "cell_type": "code",
      "execution_count": null,
      "metadata": {
        "colab": {
          "base_uri": "https://localhost:8080/"
        },
        "id": "1dOA_rmfOBay",
        "outputId": "ffff5151-d1f7-4416-eb43-ea436c83b237"
      },
      "outputs": [
        {
          "output_type": "stream",
          "name": "stdout",
          "text": [
            "[4 5 6 7]\n"
          ]
        }
      ],
      "source": [
        "print(g[4:8])"
      ]
    },
    {
      "cell_type": "markdown",
      "metadata": {
        "id": "xKzZVb02OBay"
      },
      "source": [
        "#### 3.3 「スライス（:）を使用して、3.1で作成した配列から「マイナス」を使用して下記の配列を取り出して下さい。」"
      ]
    },
    {
      "cell_type": "code",
      "execution_count": null,
      "metadata": {
        "colab": {
          "base_uri": "https://localhost:8080/"
        },
        "id": "cmARJUlTOBay",
        "outputId": "3daa5b1f-0154-492f-cbbd-5e76df40d773"
      },
      "outputs": [
        {
          "output_type": "stream",
          "name": "stdout",
          "text": [
            "[3 4 5 6 7]\n"
          ]
        }
      ],
      "source": [
        "print(g[-7:-2])"
      ]
    },
    {
      "cell_type": "markdown",
      "metadata": {
        "id": "eQ-vK0zBOBay"
      },
      "source": [
        "#### 3.4 「スライス（:）を使用して、3.1で作成した配列から「マイナス」を使用して下記の配列を取り出して下さい。」"
      ]
    },
    {
      "cell_type": "code",
      "execution_count": null,
      "metadata": {
        "colab": {
          "base_uri": "https://localhost:8080/"
        },
        "id": "58JnDx6NOBay",
        "outputId": "9b9e19a6-edc6-4cc0-b433-d7a49a5a5005"
      },
      "outputs": [
        {
          "output_type": "stream",
          "name": "stdout",
          "text": [
            "[9 8 7 6 5 4 3 2 1 0]\n"
          ]
        }
      ],
      "source": [
        "print(g[::-1])"
      ]
    },
    {
      "cell_type": "markdown",
      "metadata": {
        "id": "o9THTDCOOBay"
      },
      "source": [
        "#### 3.5 「スライス（:）を使用して、3.1で作成した配列から下記の配列を取り出して下さい。」"
      ]
    },
    {
      "cell_type": "code",
      "execution_count": null,
      "metadata": {
        "colab": {
          "base_uri": "https://localhost:8080/"
        },
        "id": "YjZjnr8QOBay",
        "outputId": "d6927612-6c8b-4ef0-986a-fb47d6066b78"
      },
      "outputs": [
        {
          "output_type": "stream",
          "name": "stdout",
          "text": [
            "[2 4 6]\n"
          ]
        }
      ],
      "source": [
        "print(g[2:8:2])"
      ]
    },
    {
      "cell_type": "markdown",
      "metadata": {
        "id": "4rI01r4zOBay"
      },
      "source": [
        "### 4. 行列について学習します（基礎）（6問）"
      ]
    },
    {
      "cell_type": "markdown",
      "metadata": {
        "id": "dTbzAoPzOBay"
      },
      "source": [
        "#### 4.1 「0～8までの数字が昇順で入った配列を作成し、3×3の行列を作成してください。」"
      ]
    },
    {
      "cell_type": "code",
      "execution_count": null,
      "metadata": {
        "colab": {
          "base_uri": "https://localhost:8080/"
        },
        "id": "WeYLZA3NOBaz",
        "outputId": "8fbde0f5-4b57-4d2e-f4c8-c4a8b9fe0186"
      },
      "outputs": [
        {
          "output_type": "stream",
          "name": "stdout",
          "text": [
            "[[0 1 2]\n",
            " [3 4 5]\n",
            " [6 7 8]]\n"
          ]
        }
      ],
      "source": [
        "h = np.arange(9)\n",
        "h = np.reshape(h,(3,3))\n",
        "print(h)"
      ]
    },
    {
      "cell_type": "markdown",
      "metadata": {
        "id": "Ppuxu8tgOBaz"
      },
      "source": [
        "#### 4.2 「任意の「0」が入っている配列を作成し、「0」以外が入っているインデックスを取得してください。」"
      ]
    },
    {
      "cell_type": "code",
      "execution_count": null,
      "metadata": {
        "colab": {
          "base_uri": "https://localhost:8080/"
        },
        "id": "KFqN89jKOBaz",
        "outputId": "751ce20c-3eda-4190-c53a-d8db3a674c33"
      },
      "outputs": [
        {
          "output_type": "stream",
          "name": "stdout",
          "text": [
            "[0 2 0 3 0]\n",
            "(array([1, 3]),)\n"
          ]
        }
      ],
      "source": [
        "i = np.random.randint(0,4,5)\n",
        "print(i)\n",
        "j = np.nonzero(i)\n",
        "print(j)"
      ]
    },
    {
      "cell_type": "markdown",
      "metadata": {
        "id": "KuFgSb9uOBaz"
      },
      "source": [
        "#### 4.3 「3×3の正方行列を作成してください。」"
      ]
    },
    {
      "cell_type": "code",
      "execution_count": null,
      "metadata": {
        "colab": {
          "base_uri": "https://localhost:8080/"
        },
        "id": "iF1gtzFGOBaz",
        "outputId": "d1512fa5-bd1d-4246-acf2-ae7c5d4feef0"
      },
      "outputs": [
        {
          "output_type": "stream",
          "name": "stdout",
          "text": [
            "[[1. 0. 0.]\n",
            " [0. 1. 0.]\n",
            " [0. 0. 1.]]\n"
          ]
        }
      ],
      "source": [
        "k = np.eye(3)\n",
        "print(k)"
      ]
    },
    {
      "cell_type": "markdown",
      "metadata": {
        "id": "bWOH6VjZOBaz"
      },
      "source": [
        "#### 4.4 「3×3×3のランダム値を持つ行列を作成してください。」"
      ]
    },
    {
      "cell_type": "code",
      "execution_count": null,
      "metadata": {
        "colab": {
          "base_uri": "https://localhost:8080/"
        },
        "id": "gechgfETOBaz",
        "outputId": "d80270c5-c184-4e54-f23e-ac264fcf8c9a"
      },
      "outputs": [
        {
          "output_type": "stream",
          "name": "stdout",
          "text": [
            "[[[0.44437811 0.22035066 0.63354263]\n",
            "  [0.15633553 0.4912559  0.65867106]\n",
            "  [0.47084409 0.25851856 0.34536431]]\n",
            "\n",
            " [[0.19075953 0.62128212 0.07765835]\n",
            "  [0.69870656 0.19545527 0.64585459]\n",
            "  [0.1889808  0.24453143 0.62998804]]\n",
            "\n",
            " [[0.73011042 0.11876476 0.3222533 ]\n",
            "  [0.70029021 0.23992516 0.03109499]\n",
            "  [0.70665558 0.30292107 0.42473982]]]\n"
          ]
        }
      ],
      "source": [
        "l = np.random.rand(3,3,3)\n",
        "print(l)"
      ]
    },
    {
      "cell_type": "markdown",
      "metadata": {
        "id": "oipQB9eCOBaz"
      },
      "source": [
        "#### 4.5 「10×10のランダム値を持つ行列を作成し、最小値と最大値を出力してください。」"
      ]
    },
    {
      "cell_type": "code",
      "execution_count": 4,
      "metadata": {
        "id": "fZlE17jMOBaz",
        "colab": {
          "base_uri": "https://localhost:8080/"
        },
        "outputId": "cf176cce-57b6-409b-c86c-8f812c2850cc"
      },
      "outputs": [
        {
          "output_type": "stream",
          "name": "stdout",
          "text": [
            "0.007639773419621743 0.9992460457192958\n"
          ]
        }
      ],
      "source": [
        "data = np.random.random((10,10))\n",
        "datamin, datamax = data.min(), data.max()\n",
        "print(datamin, datamax)"
      ]
    },
    {
      "cell_type": "markdown",
      "metadata": {
        "id": "iVAMhtJxOBaz"
      },
      "source": [
        "#### 4.6 「10×10のランダム値を持つ行列を作成し、平均値を出力してください。」"
      ]
    },
    {
      "cell_type": "code",
      "execution_count": 5,
      "metadata": {
        "id": "SeMm3rPIOBaz",
        "colab": {
          "base_uri": "https://localhost:8080/"
        },
        "outputId": "490f6705-306c-4310-c449-b9cb9a4e5d59"
      },
      "outputs": [
        {
          "output_type": "stream",
          "name": "stdout",
          "text": [
            "0.4992099950756517\n"
          ]
        }
      ],
      "source": [
        "data = np.random.random((10,10))\n",
        "m = data.mean()\n",
        "print(m)"
      ]
    },
    {
      "cell_type": "markdown",
      "metadata": {
        "id": "UtUCnC7VOBaz"
      },
      "source": [
        "### 5. 行列について学習します（応用）（7問）"
      ]
    },
    {
      "cell_type": "markdown",
      "metadata": {
        "id": "N3SkP0GwOBaz"
      },
      "source": [
        "#### 5.1 「10×10の大きさの、外側だけ値が「1」、内側が全て値が「0」の行列を作成してください。」"
      ]
    },
    {
      "cell_type": "code",
      "execution_count": 6,
      "metadata": {
        "id": "T4Rvdr2tOBaz",
        "colab": {
          "base_uri": "https://localhost:8080/"
        },
        "outputId": "84f20b16-c986-4aba-c5c2-3be78185adff"
      },
      "outputs": [
        {
          "output_type": "stream",
          "name": "stdout",
          "text": [
            "[[1. 1. 1. 1. 1. 1. 1. 1. 1. 1.]\n",
            " [1. 0. 0. 0. 0. 0. 0. 0. 0. 1.]\n",
            " [1. 0. 0. 0. 0. 0. 0. 0. 0. 1.]\n",
            " [1. 0. 0. 0. 0. 0. 0. 0. 0. 1.]\n",
            " [1. 0. 0. 0. 0. 0. 0. 0. 0. 1.]\n",
            " [1. 0. 0. 0. 0. 0. 0. 0. 0. 1.]\n",
            " [1. 0. 0. 0. 0. 0. 0. 0. 0. 1.]\n",
            " [1. 0. 0. 0. 0. 0. 0. 0. 0. 1.]\n",
            " [1. 0. 0. 0. 0. 0. 0. 0. 0. 1.]\n",
            " [1. 1. 1. 1. 1. 1. 1. 1. 1. 1.]]\n"
          ]
        }
      ],
      "source": [
        "data = np.ones((10,10))\n",
        "data[1:-1,1:-1] = 0\n",
        "print(data)"
      ]
    },
    {
      "cell_type": "markdown",
      "metadata": {
        "id": "_7zFy9APOBaz"
      },
      "source": [
        "#### 5.2 「10×10の大きさの、外側だけ値が「0」、内側が全て値が「1」の行列を作成してください。」"
      ]
    },
    {
      "cell_type": "code",
      "execution_count": 7,
      "metadata": {
        "id": "c8yi1AlFOBa0",
        "colab": {
          "base_uri": "https://localhost:8080/"
        },
        "outputId": "4237eb86-9d17-4dd8-e7cc-29157083f6f9"
      },
      "outputs": [
        {
          "output_type": "stream",
          "name": "stdout",
          "text": [
            "[[0. 0. 0. 0. 0. 0. 0. 0. 0. 0.]\n",
            " [0. 1. 1. 1. 1. 1. 1. 1. 1. 0.]\n",
            " [0. 1. 1. 1. 1. 1. 1. 1. 1. 0.]\n",
            " [0. 1. 1. 1. 1. 1. 1. 1. 1. 0.]\n",
            " [0. 1. 1. 1. 1. 1. 1. 1. 1. 0.]\n",
            " [0. 1. 1. 1. 1. 1. 1. 1. 1. 0.]\n",
            " [0. 1. 1. 1. 1. 1. 1. 1. 1. 0.]\n",
            " [0. 1. 1. 1. 1. 1. 1. 1. 1. 0.]\n",
            " [0. 1. 1. 1. 1. 1. 1. 1. 1. 0.]\n",
            " [0. 0. 0. 0. 0. 0. 0. 0. 0. 0.]]\n"
          ]
        }
      ],
      "source": [
        "data = np.ones((8,8))\n",
        "data = np.pad(data, pad_width=1, mode='constant', constant_values=0)\n",
        "print(data)"
      ]
    },
    {
      "cell_type": "markdown",
      "metadata": {
        "id": "XQcbJWUrOBa0"
      },
      "source": [
        "#### 5.3「下記のような4×4の対角行列を作成してください。」"
      ]
    },
    {
      "cell_type": "code",
      "execution_count": 8,
      "metadata": {
        "id": "Gt4YugtCOBa0",
        "colab": {
          "base_uri": "https://localhost:8080/"
        },
        "outputId": "c9f9024a-4a58-4554-acdb-1a2849a9d6d3"
      },
      "outputs": [
        {
          "output_type": "stream",
          "name": "stdout",
          "text": [
            "[[1 0 0 0]\n",
            " [0 2 0 0]\n",
            " [0 0 3 0]\n",
            " [0 0 0 4]]\n"
          ]
        }
      ],
      "source": [
        "data = np.diag(1+np.arange(4),k=0)\n",
        "print(data)"
      ]
    },
    {
      "cell_type": "markdown",
      "metadata": {
        "id": "CYbqrB6sOBa0"
      },
      "source": [
        "#### 5.4 「下記のような8×8の行列を作成してください。」"
      ]
    },
    {
      "cell_type": "code",
      "execution_count": 9,
      "metadata": {
        "id": "kWwc3i9POBa0",
        "colab": {
          "base_uri": "https://localhost:8080/"
        },
        "outputId": "b5bccc8f-e211-4938-d3b6-f7309adea000"
      },
      "outputs": [
        {
          "output_type": "stream",
          "name": "stdout",
          "text": [
            "[[0 1 0 1 0 1 0 1]\n",
            " [1 0 1 0 1 0 1 0]\n",
            " [0 1 0 1 0 1 0 1]\n",
            " [1 0 1 0 1 0 1 0]\n",
            " [0 1 0 1 0 1 0 1]\n",
            " [1 0 1 0 1 0 1 0]\n",
            " [0 1 0 1 0 1 0 1]\n",
            " [1 0 1 0 1 0 1 0]]\n"
          ]
        }
      ],
      "source": [
        "data = np.zeros((8,8),dtype=int)\n",
        "data[1::2,::2] = 1\n",
        "data[::2,1::2] = 1\n",
        "print(data)"
      ]
    },
    {
      "cell_type": "markdown",
      "metadata": {
        "id": "4Idvgp_COBa0"
      },
      "source": [
        "#### 5.5「3×5×2の行列を考えた時に、10番目の要素のインデックスを出力してください。」"
      ]
    },
    {
      "cell_type": "code",
      "execution_count": 10,
      "metadata": {
        "id": "5-91Ar-TOBa0",
        "colab": {
          "base_uri": "https://localhost:8080/"
        },
        "outputId": "4662c43c-7129-4672-c3a5-18707374d4f2"
      },
      "outputs": [
        {
          "output_type": "stream",
          "name": "stdout",
          "text": [
            "(1, 0, 0)\n"
          ]
        }
      ],
      "source": [
        "print(np.unravel_index(10,(3,5,2)))"
      ]
    },
    {
      "cell_type": "markdown",
      "metadata": {
        "id": "tiJuXvEuOBa0"
      },
      "source": [
        "#### 5.6「5×5のランダム値を持つ行列を作成し、行列内の最大値が1、最小値が0になるように正規化してください。」"
      ]
    },
    {
      "cell_type": "code",
      "execution_count": 11,
      "metadata": {
        "id": "yqrCOoN6OBa0",
        "colab": {
          "base_uri": "https://localhost:8080/"
        },
        "outputId": "8e996c9a-88ba-4361-af99-b6d5e9a06423"
      },
      "outputs": [
        {
          "output_type": "stream",
          "name": "stdout",
          "text": [
            "[[0.30985938 0.62124443 0.45016318 0.66554062 0.01620509]\n",
            " [0.4806587  0.00705365 0.49386502 0.96084847 0.28391301]\n",
            " [0.49216069 0.89767595 0.55428189 0.70870399 0.59062791]\n",
            " [0.61293346 0.92873637 0.         0.28882191 0.65294506]\n",
            " [0.39985915 0.78725116 0.07373219 0.83073856 1.        ]]\n"
          ]
        }
      ],
      "source": [
        "data = np.random.random((5,5))\n",
        "datamax, datamin = data.max(), data.min()\n",
        "data = (data - datamin)/(datamax - datamin)\n",
        "print(data)"
      ]
    },
    {
      "cell_type": "markdown",
      "metadata": {
        "id": "nR6ROzruOBa0"
      },
      "source": [
        "#### 5.7「5×3の値が全て1の行列と3×2の値が全て1の行列の掛け算を行ってください。」"
      ]
    },
    {
      "cell_type": "code",
      "execution_count": 12,
      "metadata": {
        "id": "5faKJudYOBa0",
        "colab": {
          "base_uri": "https://localhost:8080/"
        },
        "outputId": "06504f07-8488-495a-ae74-f08eda5b8fe2"
      },
      "outputs": [
        {
          "output_type": "stream",
          "name": "stdout",
          "text": [
            "[[3. 3.]\n",
            " [3. 3.]\n",
            " [3. 3.]\n",
            " [3. 3.]\n",
            " [3. 3.]]\n"
          ]
        }
      ],
      "source": [
        "data = np.dot(np.ones((5,3)), np.ones((3,2)))\n",
        "print(data)"
      ]
    },
    {
      "cell_type": "markdown",
      "metadata": {
        "id": "_i_HihucOBa0"
      },
      "source": [
        "### 6. numpyでよく使用する機能について学習します。（14問）"
      ]
    },
    {
      "cell_type": "markdown",
      "metadata": {
        "id": "TvO1zDTcOBa0"
      },
      "source": [
        "#### 6.1「0～10までの数字を昇順に並べた配列を作成し、4～8までの数字をマイナスに変えて出力してください。」"
      ]
    },
    {
      "cell_type": "code",
      "execution_count": 13,
      "metadata": {
        "id": "9sMnXdzJOBa0",
        "colab": {
          "base_uri": "https://localhost:8080/"
        },
        "outputId": "75b0d73d-14f0-4f55-e816-44369954ea75"
      },
      "outputs": [
        {
          "output_type": "stream",
          "name": "stdout",
          "text": [
            "[ 0  1  2  3 -4 -5 -6 -7 -8  9 10]\n"
          ]
        }
      ],
      "source": [
        "data = np.arange(11)\n",
        "data[(3 < data) & (data <= 8)] *= -1\n",
        "print(data)"
      ]
    },
    {
      "cell_type": "markdown",
      "metadata": {
        "id": "H5tJ1klBOBa1"
      },
      "source": [
        "#### 6.2「ランダムな整数値を10個もつ配列を2つ作成し、その2つの配列の共通の値を出力してください。」"
      ]
    },
    {
      "cell_type": "code",
      "execution_count": 14,
      "metadata": {
        "id": "viVzo8GsOBa1",
        "colab": {
          "base_uri": "https://localhost:8080/"
        },
        "outputId": "520903c1-07a4-44a0-f7b8-2ed297e4545a"
      },
      "outputs": [
        {
          "output_type": "stream",
          "name": "stdout",
          "text": [
            "[0 2 4 9]\n"
          ]
        }
      ],
      "source": [
        "data1 = np.random.randint(0,10,10)\n",
        "data2 = np.random.randint(0,10,10)\n",
        "print(np.intersect1d(data1,data2))"
      ]
    },
    {
      "cell_type": "markdown",
      "metadata": {
        "id": "UHRXscz4OBa1"
      },
      "source": [
        "#### 6.3「虚数を出力してください。」"
      ]
    },
    {
      "cell_type": "code",
      "execution_count": 15,
      "metadata": {
        "id": "FIIq908dOBa1",
        "colab": {
          "base_uri": "https://localhost:8080/"
        },
        "outputId": "c0b9a246-9dc6-4b33-ce55-c388cb5ed4db"
      },
      "outputs": [
        {
          "output_type": "execute_result",
          "data": {
            "text/plain": [
              "1j"
            ]
          },
          "metadata": {},
          "execution_count": 15
        }
      ],
      "source": [
        "np.emath.sqrt(-1)"
      ]
    },
    {
      "cell_type": "markdown",
      "metadata": {
        "id": "Q9B08BsEOBa1"
      },
      "source": [
        "#### 6.4「今日の日付と明後日の日付を出力してください。」"
      ]
    },
    {
      "cell_type": "code",
      "execution_count": 17,
      "metadata": {
        "id": "0ep-1J9_OBa1",
        "colab": {
          "base_uri": "https://localhost:8080/"
        },
        "outputId": "213faaa2-94f8-4e2d-9be3-024fed8b5e83"
      },
      "outputs": [
        {
          "output_type": "stream",
          "name": "stdout",
          "text": [
            "2023-05-27\n",
            "2023-05-29\n"
          ]
        }
      ],
      "source": [
        "today = np.datetime64('today', 'D')\n",
        "day_after_tomorrow  = np.datetime64('today', 'D') + np.timedelta64(2, 'D')\n",
        "print(today)\n",
        "print(day_after_tomorrow)"
      ]
    },
    {
      "cell_type": "markdown",
      "metadata": {
        "id": "5w_WMdDZOBa1"
      },
      "source": [
        "#### 6.5「2019年11月の日付を配列として出力してください。」"
      ]
    },
    {
      "cell_type": "code",
      "execution_count": 18,
      "metadata": {
        "id": "N_-f_mjIOBa1",
        "colab": {
          "base_uri": "https://localhost:8080/"
        },
        "outputId": "b4dee393-92c5-410c-c4d9-c8189c307b4f"
      },
      "outputs": [
        {
          "output_type": "stream",
          "name": "stdout",
          "text": [
            "['2019-11-01' '2019-11-02' '2019-11-03' '2019-11-04' '2019-11-05'\n",
            " '2019-11-06' '2019-11-07' '2019-11-08' '2019-11-09' '2019-11-10'\n",
            " '2019-11-11' '2019-11-12' '2019-11-13' '2019-11-14' '2019-11-15'\n",
            " '2019-11-16' '2019-11-17' '2019-11-18' '2019-11-19' '2019-11-20'\n",
            " '2019-11-21' '2019-11-22' '2019-11-23' '2019-11-24' '2019-11-25'\n",
            " '2019-11-26' '2019-11-27' '2019-11-28' '2019-11-29' '2019-11-30']\n"
          ]
        }
      ],
      "source": [
        "data = np.arange('2019-11', '2019-12', dtype='datetime64[D]')\n",
        "print(data)"
      ]
    },
    {
      "cell_type": "markdown",
      "metadata": {
        "id": "_iyWbSDQOBa1"
      },
      "source": [
        "#### 6.6「ランダムの値を10個持つ配列を作成し、異なる3パターンで整数として出力してください。」"
      ]
    },
    {
      "cell_type": "code",
      "execution_count": 19,
      "metadata": {
        "id": "S5eZhaOfOBa1",
        "colab": {
          "base_uri": "https://localhost:8080/"
        },
        "outputId": "2027d3b2-ec71-46c9-dd9c-c9fe8d0506ed"
      },
      "outputs": [
        {
          "output_type": "stream",
          "name": "stdout",
          "text": [
            "[6.74761822 0.58963748 6.89459473 7.13772317 8.63773888 0.16268134\n",
            " 6.68089787 2.90099364 1.61010242 6.67094984]\n",
            "[6. 0. 6. 7. 8. 0. 6. 2. 1. 6.]\n",
            "[6. 0. 6. 7. 8. 0. 6. 2. 1. 6.]\n",
            "[6. 0. 6. 7. 8. 0. 6. 2. 1. 6.]\n"
          ]
        }
      ],
      "source": [
        "data = np.random.uniform(0,10,10)\n",
        "print(data)\n",
        "print (data - data%1)\n",
        "print (np.floor(data))\n",
        "print (np.ceil(data)-1)"
      ]
    },
    {
      "cell_type": "markdown",
      "metadata": {
        "id": "_pFBkFJhOBa1"
      },
      "source": [
        "#### 6.7「下記のような行列を作成してください。」"
      ]
    },
    {
      "cell_type": "code",
      "execution_count": 20,
      "metadata": {
        "id": "WGpuF1vgOBa1",
        "colab": {
          "base_uri": "https://localhost:8080/"
        },
        "outputId": "ad7068d9-9af7-4041-9675-14d2a0db1c8b"
      },
      "outputs": [
        {
          "output_type": "stream",
          "name": "stdout",
          "text": [
            "[[0. 1. 2. 3. 4.]\n",
            " [0. 1. 2. 3. 4.]\n",
            " [0. 1. 2. 3. 4.]\n",
            " [0. 1. 2. 3. 4.]\n",
            " [0. 1. 2. 3. 4.]]\n"
          ]
        }
      ],
      "source": [
        "data = np.zeros((5,5))\n",
        "data += np.arange(5)\n",
        "print(data)"
      ]
    },
    {
      "cell_type": "markdown",
      "metadata": {
        "id": "_C1uhfjjOBa1"
      },
      "source": [
        "#### 6.8「「0」と「1」は含めず、「0」～「1」の間を10分割した配列を作成してください。」"
      ]
    },
    {
      "cell_type": "code",
      "execution_count": 21,
      "metadata": {
        "id": "E26kjhmkOBa2",
        "colab": {
          "base_uri": "https://localhost:8080/"
        },
        "outputId": "7c6aef41-d989-497a-cca6-942957bacd57"
      },
      "outputs": [
        {
          "output_type": "stream",
          "name": "stdout",
          "text": [
            "[0.09090909 0.18181818 0.27272727 0.36363636 0.45454545 0.54545455\n",
            " 0.63636364 0.72727273 0.81818182 0.90909091]\n"
          ]
        }
      ],
      "source": [
        "data = np.linspace(0,1,11,endpoint=False)[1:]\n",
        "print(data)"
      ]
    },
    {
      "cell_type": "markdown",
      "metadata": {
        "id": "7WoyM4rCOBa2"
      },
      "source": [
        "#### 6.9「10のランダム値を持つ配列を作成し、値を昇順にして出力してください。」"
      ]
    },
    {
      "cell_type": "code",
      "execution_count": 22,
      "metadata": {
        "id": "yvySo2-TOBa2",
        "colab": {
          "base_uri": "https://localhost:8080/"
        },
        "outputId": "71f02b53-8cd4-4353-a8e4-895b9e3a04b3"
      },
      "outputs": [
        {
          "output_type": "stream",
          "name": "stdout",
          "text": [
            "[0.0561019  0.08596843 0.1018462  0.14683682 0.16260904 0.2405655\n",
            " 0.42341593 0.42874116 0.72179921 0.91104551]\n"
          ]
        }
      ],
      "source": [
        "data = np.random.random(10)\n",
        "data.sort()\n",
        "print(data)"
      ]
    },
    {
      "cell_type": "markdown",
      "metadata": {
        "id": "19Q7hzObOBa2"
      },
      "source": [
        "#### 6.10「10のランダム値を持つ配列を作成し、MAX値に「0」を置き換えて出力してください。」"
      ]
    },
    {
      "cell_type": "code",
      "execution_count": 23,
      "metadata": {
        "id": "dQbHusHXOBa2",
        "colab": {
          "base_uri": "https://localhost:8080/"
        },
        "outputId": "55a65632-d1b5-4649-b05c-cd402ca28d50"
      },
      "outputs": [
        {
          "output_type": "stream",
          "name": "stdout",
          "text": [
            "[0.59664366 0.         0.28879537 0.75124581 0.67472382 0.36640677\n",
            " 0.33622488 0.40455144 0.31845715 0.92722673]\n"
          ]
        }
      ],
      "source": [
        "data = np.random.random(10)\n",
        "data[data.argmax()] = 0\n",
        "print(data)"
      ]
    },
    {
      "cell_type": "markdown",
      "metadata": {
        "id": "izngfAzeOBa2"
      },
      "source": [
        "#### 6.11「下記のような値が軸単位で昇順になっている行列を作成してください。」"
      ]
    },
    {
      "cell_type": "code",
      "execution_count": 24,
      "metadata": {
        "id": "xJA7cJIhOBa2",
        "colab": {
          "base_uri": "https://localhost:8080/"
        },
        "outputId": "44c64c23-bde4-4271-87f8-728a30822ac9"
      },
      "outputs": [
        {
          "output_type": "stream",
          "name": "stdout",
          "text": [
            "[[(0.  , 0.  ) (0.25, 0.  ) (0.5 , 0.  ) (0.75, 0.  ) (1.  , 0.  )]\n",
            " [(0.  , 0.25) (0.25, 0.25) (0.5 , 0.25) (0.75, 0.25) (1.  , 0.25)]\n",
            " [(0.  , 0.5 ) (0.25, 0.5 ) (0.5 , 0.5 ) (0.75, 0.5 ) (1.  , 0.5 )]\n",
            " [(0.  , 0.75) (0.25, 0.75) (0.5 , 0.75) (0.75, 0.75) (1.  , 0.75)]\n",
            " [(0.  , 1.  ) (0.25, 1.  ) (0.5 , 1.  ) (0.75, 1.  ) (1.  , 1.  )]]\n"
          ]
        }
      ],
      "source": [
        "data = np.zeros((5,5), [('x',float),('y',float)])\n",
        "data['x'], data['y'] = np.meshgrid(np.linspace(0,1,5),\n",
        "                       np.linspace(0,1,5))\n",
        "print(data)"
      ]
    },
    {
      "cell_type": "markdown",
      "metadata": {
        "id": "ncxslkMSOBa2"
      },
      "source": [
        "#### 6.12「3×3の値が昇順になっている行列を作成し、インデックスと値を出力してください。」"
      ]
    },
    {
      "cell_type": "code",
      "execution_count": 26,
      "metadata": {
        "id": "9nkHQ0A-OBa2",
        "colab": {
          "base_uri": "https://localhost:8080/"
        },
        "outputId": "88db42f2-0d5a-4c32-929e-3ecbd09462c8"
      },
      "outputs": [
        {
          "output_type": "stream",
          "name": "stdout",
          "text": [
            "(0, 0) 0\n",
            "(0, 1) 1\n",
            "(0, 2) 2\n",
            "(1, 0) 3\n",
            "(1, 1) 4\n",
            "(1, 2) 5\n",
            "(2, 0) 6\n",
            "(2, 1) 7\n",
            "(2, 2) 8\n"
          ]
        }
      ],
      "source": [
        "data = np.arange(9).reshape(3,3)\n",
        "for index, value in np.ndenumerate(data):\n",
        "    print(index, value)"
      ]
    },
    {
      "cell_type": "markdown",
      "metadata": {
        "id": "D5LNNFj4OBa2"
      },
      "source": [
        "#### 6.13「10×10の「0」行列を作成し、ランダムで20個「1」に変更してください。」"
      ]
    },
    {
      "cell_type": "code",
      "execution_count": 27,
      "metadata": {
        "id": "QJFrE-SoOBa2",
        "colab": {
          "base_uri": "https://localhost:8080/"
        },
        "outputId": "267e0604-71b4-4da5-a802-47f8dced7e71"
      },
      "outputs": [
        {
          "output_type": "stream",
          "name": "stdout",
          "text": [
            "[[0. 0. 0. 0. 0. 0. 1. 0. 0. 0.]\n",
            " [1. 0. 0. 0. 0. 0. 0. 0. 0. 0.]\n",
            " [0. 1. 0. 1. 0. 0. 0. 0. 0. 0.]\n",
            " [0. 0. 0. 0. 1. 0. 0. 0. 1. 0.]\n",
            " [1. 1. 0. 0. 0. 0. 0. 0. 0. 0.]\n",
            " [0. 0. 0. 1. 1. 0. 0. 0. 1. 0.]\n",
            " [0. 1. 0. 0. 0. 0. 0. 0. 1. 0.]\n",
            " [0. 0. 0. 0. 0. 0. 0. 0. 1. 0.]\n",
            " [1. 0. 1. 0. 0. 0. 0. 0. 0. 0.]\n",
            " [0. 1. 0. 0. 1. 0. 0. 1. 0. 1.]]\n"
          ]
        }
      ],
      "source": [
        "n = 10\n",
        "p = 20\n",
        "data = np.zeros((n,n))\n",
        "np.put(data, np.random.choice(range(n*n), p, replace=False),1)\n",
        "print(data)"
      ]
    },
    {
      "cell_type": "markdown",
      "metadata": {
        "id": "pjzuRzFlOBa2"
      },
      "source": [
        "#### 6.14「100の整数のランダム要素を持つ配列を作成し、その頻度を出力してください。」"
      ]
    },
    {
      "cell_type": "code",
      "execution_count": null,
      "metadata": {
        "colab": {
          "base_uri": "https://localhost:8080/"
        },
        "id": "YEdxI0xPOBa2",
        "outputId": "6800e121-3136-4409-9115-4c536a6229f8"
      },
      "outputs": [
        {
          "output_type": "stream",
          "name": "stdout",
          "text": [
            "[33 25 69 43 21 75 59 78 65 57 48 44 53 81 91 32 30 60 99 72 64 22 81 35\n",
            " 97 83 54 50 52 64 79 78 61 11 36 61  5 66 16 99 42 89 94 35 22 80 95 21\n",
            " 29 47 96 30 66 32  0  6 31 70 22 59 67 90 92 92 20 72 24 78 98  9 40 18\n",
            " 48  9 25 29 45 21 30 73 70 78 30 15 92 59 35 27 72 96 54  5 83 61 87 62\n",
            " 98 21 45 69]\n",
            "[1 0 0 0 0 2 1 0 0 2 0 1 0 0 0 1 1 0 1 0 1 4 3 0 1 2 0 1 0 2 4 1 2 1 0 3 1\n",
            " 0 0 0 1 0 1 1 1 2 0 1 2 0 1 0 1 1 2 0 0 1 0 3 1 3 1 0 2 1 2 1 0 2 2 0 3 1\n",
            " 0 1 0 0 4 1 1 2 0 2 0 0 0 1 0 1 1 1 3 0 1 1 2 1 2 2]\n"
          ]
        }
      ],
      "source": [
        "y = np.random.randint(0,100,100)\n",
        "print(y)\n",
        "z = np.bincount(y)\n",
        "print(z)"
      ]
    },
    {
      "cell_type": "code",
      "source": [],
      "metadata": {
        "id": "pj9qP7g4lv3M"
      },
      "execution_count": null,
      "outputs": []
    }
  ],
  "metadata": {
    "kernelspec": {
      "display_name": "Python 3",
      "language": "python",
      "name": "python3"
    },
    "language_info": {
      "codemirror_mode": {
        "name": "ipython",
        "version": 3
      },
      "file_extension": ".py",
      "mimetype": "text/x-python",
      "name": "python",
      "nbconvert_exporter": "python",
      "pygments_lexer": "ipython3",
      "version": "3.7.6"
    },
    "colab": {
      "provenance": [],
      "include_colab_link": true
    }
  },
  "nbformat": 4,
  "nbformat_minor": 0
}